{
 "cells": [
  {
   "cell_type": "code",
   "execution_count": 8,
   "metadata": {},
   "outputs": [],
   "source": [
    "import numpy as np\n",
    "import pandas as pd\n",
    "import seaborn as sns\n",
    "import matplotlib.pyplot as plt\n",
    "import plotly.express as px\n",
    "import nltk\n",
    "from sklearn.feature_extraction.text import CountVectorizer\n",
    "from wordcloud import WordCloud,STOPWORDS\n",
    "from nltk.stem import WordNetLemmatizer\n",
    "from nltk.tokenize import word_tokenize\n",
    "import re,string,unicodedata\n",
    "from sklearn.metrics import classification_report,confusion_matrix,accuracy_score,f1_score\n",
    "from sklearn.model_selection import train_test_split\n",
    "from string import punctuation\n",
    "from nltk import pos_tag\n",
    "from nltk.corpus import wordnet\n",
    "import re\n",
    "import warnings\n",
    "warnings.filterwarnings('ignore')\n",
    "import matplotlib.pyplot as plt"
   ]
  },
  {
   "cell_type": "code",
   "execution_count": 9,
   "metadata": {},
   "outputs": [],
   "source": [
    "#Loading the dataset\n",
    "df = pd.read_csv('../data/IMDB-Dataset.csv')"
   ]
  },
  {
   "cell_type": "markdown",
   "metadata": {},
   "source": [
    "# Data Preprocessing"
   ]
  },
  {
   "cell_type": "code",
   "execution_count": 11,
   "metadata": {},
   "outputs": [
    {
     "name": "stderr",
     "output_type": "stream",
     "text": [
      "[nltk_data] Downloading package stopwords to\n",
      "[nltk_data]     /home/spicytalha/nltk_data...\n",
      "[nltk_data]   Unzipping corpora/stopwords.zip.\n"
     ]
    },
    {
     "data": {
      "text/plain": [
       "True"
      ]
     },
     "execution_count": 11,
     "metadata": {},
     "output_type": "execute_result"
    }
   ],
   "source": [
    "nltk.download('stopwords')"
   ]
  },
  {
   "cell_type": "code",
   "execution_count": 14,
   "metadata": {},
   "outputs": [
    {
     "name": "stdout",
     "output_type": "stream",
     "text": [
      "{'while', 'this', 'here', 'as', 'doesn', \"needn't\", 'be', 'but', 'should', 'because', 'other', 'there', 'myself', 'had', \"you're\", 'their', 'some', \"hasn't\", 'yours', 'all', 'those', 've', 'me', 'our', 'one', 'wouldn', 'were', 'did', 'again', \"that'll\", 'during', 'do', \"she's\", \"it's\", 'each', 'these', 'him', 'very', 'now', \"aren't\", 'needn', 'until', 'such', 'shall', 'yourselves', 'hers', 'she', 'been', 'having', 'am', 'don', 'who', \"wasn't\", 'in', 'them', 'then', 'll', 'only', 'i', 'shouldn', 'that', 'over', 'your', 'itself', 'aren', \"shouldn't\", 'with', 'own', 'or', 'few', 'nor', 'couldn', 'what', 'up', 't', 'has', 'mustn', 'hasn', 'any', 'an', 'out', 'how', 'ma', 'ours', 'just', 'is', 'was', 'above', 'about', 'from', \"didn't\", 'the', 'will', 'further', 'when', 're', 'at', \"isn't\", 'being', 'ain', 'of', 'would', 'haven', 'yourself', 'under', \"wouldn't\", 'could', 'for', 'by', 'through', 'themselves', 'against', 'it', 'too', 's', \"mightn't\", 'wasn', 'mightn', 'we', 'hadn', 'isn', 'more', 'than', 'before', \"you'll\", 'and', 'herself', 'he', 'into', 'most', \"don't\", \"should've\", \"mustn't\", 'whom', 'didn', \"doesn't\", 'o', 'ourselves', 'have', 'off', 'below', 'might', 'if', 'where', 'so', 'why', 'her', 'between', 'can', \"hadn't\", 'a', 'theirs', 'both', 'on', \"you've\", 'are', \"weren't\", 'his', 'weren', \"haven't\", 'doing', \"shan't\", 'my', \"won't\", 'its', 'm', 'to', 'himself', 'you', 'which', \"couldn't\", 'once', 'they', 'no', 'd', 'film', 'y', 'won', 'shan', 'after', \"you'd\", 'down', 'same', 'does'}\n"
     ]
    }
   ],
   "source": [
    "#Customize Stopwords as per data\n",
    "from nltk.corpus import stopwords\n",
    "stop_words = stopwords.words('english')\n",
    "new_stopwords = [\"would\",\"shall\",\"could\",\"might\", \"film\", \"one\"]\n",
    "stop_words.extend(new_stopwords)\n",
    "stop_words.remove(\"not\")\n",
    "stop_words=set(stop_words)\n",
    "print(stop_words)"
   ]
  },
  {
   "cell_type": "code",
   "execution_count": null,
   "metadata": {},
   "outputs": [],
   "source": []
  }
 ],
 "metadata": {
  "kernelspec": {
   "display_name": "Emoscan",
   "language": "python",
   "name": "python3"
  },
  "language_info": {
   "codemirror_mode": {
    "name": "ipython",
    "version": 3
   },
   "file_extension": ".py",
   "mimetype": "text/x-python",
   "name": "python",
   "nbconvert_exporter": "python",
   "pygments_lexer": "ipython3",
   "version": "3.12.3"
  }
 },
 "nbformat": 4,
 "nbformat_minor": 2
}
