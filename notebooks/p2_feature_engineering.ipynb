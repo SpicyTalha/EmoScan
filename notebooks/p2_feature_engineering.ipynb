{
 "cells": [
  {
   "cell_type": "markdown",
   "metadata": {},
   "source": [
    "# Importing Dependencies"
   ]
  },
  {
   "cell_type": "code",
   "execution_count": 28,
   "metadata": {},
   "outputs": [],
   "source": [
    "import numpy as np\n",
    "import pandas as pd\n",
    "import seaborn as sns\n",
    "import matplotlib.pyplot as plt\n",
    "import plotly.express as px\n",
    "import nltk\n",
    "from sklearn.feature_extraction.text import CountVectorizer\n",
    "from wordcloud import WordCloud,STOPWORDS\n",
    "from nltk.stem import WordNetLemmatizer\n",
    "from nltk.tokenize import word_tokenize\n",
    "import re,string,unicodedata\n",
    "from sklearn.metrics import classification_report,confusion_matrix,accuracy_score,f1_score\n",
    "from sklearn.model_selection import train_test_split\n",
    "from string import punctuation\n",
    "from nltk import pos_tag\n",
    "from nltk.corpus import wordnet\n",
    "import re\n",
    "import warnings\n",
    "warnings.filterwarnings('ignore')\n",
    "import matplotlib.pyplot as plt"
   ]
  },
  {
   "cell_type": "code",
   "execution_count": 29,
   "metadata": {},
   "outputs": [],
   "source": [
    "#Loading the dataset\n",
    "df = pd.read_csv('../data/IMDB-Dataset.csv')"
   ]
  },
  {
   "cell_type": "code",
   "execution_count": 30,
   "metadata": {},
   "outputs": [
    {
     "name": "stderr",
     "output_type": "stream",
     "text": [
      "[nltk_data] Downloading package stopwords to\n",
      "[nltk_data]     /home/spicytalha/nltk_data...\n",
      "[nltk_data]   Package stopwords is already up-to-date!\n"
     ]
    },
    {
     "data": {
      "text/plain": [
       "True"
      ]
     },
     "execution_count": 30,
     "metadata": {},
     "output_type": "execute_result"
    }
   ],
   "source": [
    "nltk.download('stopwords')"
   ]
  },
  {
   "cell_type": "code",
   "execution_count": 31,
   "metadata": {},
   "outputs": [
    {
     "name": "stdout",
     "output_type": "stream",
     "text": [
      "{'into', 'with', 'that', 'any', 'our', 'who', 'yours', 'how', 'same', \"hasn't\", 'it', 'to', 'in', \"you'd\", 'which', 's', 'from', 'at', 'me', 'is', 'for', 'when', 'll', 'nor', 'do', \"you're\", 'further', 'where', 'other', 'does', \"doesn't\", 'them', 'each', 'shan', 'didn', 'wouldn', 'between', 'her', \"didn't\", 'won', 'hers', \"wasn't\", 'his', \"won't\", 'few', 'a', 're', 'o', 've', 'mustn', 'until', 'would', 'ma', 'been', 'some', \"mustn't\", 'this', 'was', \"should've\", 'couldn', \"it's\", 'having', 'she', 'hasn', 'are', 'shouldn', 'too', 'its', 'before', 'they', 'herself', 'haven', 'so', 'those', 'i', 'only', 'than', 'whom', 'if', 'yourselves', 'y', 'being', 'ain', 'both', 'you', 'no', 'most', 'doing', 'such', 'their', 'very', \"couldn't\", 'himself', 'isn', 'again', 'hadn', \"aren't\", \"you'll\", 'what', 'just', 'during', 'd', 'did', 'the', 'have', 'myself', 'could', 'am', 'will', 'why', 'we', \"that'll\", 'be', \"wouldn't\", 'mightn', 'above', \"hadn't\", 'needn', 'all', \"don't\", 'should', 'under', 'now', 'or', 'off', 'over', 'weren', 'about', 'he', 'ours', 'were', 'through', \"isn't\", 'up', 'theirs', \"you've\", 'once', \"needn't\", 'themselves', 'below', \"weren't\", 'yourself', 'had', 'of', 'doesn', \"shouldn't\", 'more', 'itself', 'but', 'wasn', 'and', 'on', 'm', 'ourselves', 'there', 'then', 'one', 'shall', 'after', 'film', 'your', 'these', 'has', 'might', 'don', 'out', \"mightn't\", 'by', 'can', 'my', 'an', 'as', \"haven't\", 'down', 't', 'here', 'aren', 'him', 'because', 'against', 'own', \"shan't\", \"she's\", 'while'}\n"
     ]
    }
   ],
   "source": [
    "#Customize Stopwords as per data\n",
    "from nltk.corpus import stopwords\n",
    "stop_words = stopwords.words('english')\n",
    "new_stopwords = [\"would\",\"shall\",\"could\",\"might\", \"film\", \"one\"]\n",
    "stop_words.extend(new_stopwords)\n",
    "stop_words.remove(\"not\")\n",
    "stop_words=set(stop_words)\n",
    "print(stop_words)"
   ]
  },
  {
   "cell_type": "code",
   "execution_count": 32,
   "metadata": {},
   "outputs": [],
   "source": [
    "#Removing special character\n",
    "def remove_special_character(content):\n",
    "    return re.sub('\\W+',' ', content )#re.sub('\\[[^&@#!]]*\\]', '', content)\n",
    "\n",
    "# Removing URL's\n",
    "def remove_url(content):\n",
    "    return re.sub(r'http\\S+', '', content)\n",
    "\n",
    "#Removing the stopwords from text\n",
    "def remove_stopwords(content):\n",
    "    clean_data = []\n",
    "    for i in content.split():\n",
    "        if i.strip().lower() not in stop_words and i.strip().lower().isalpha():\n",
    "            clean_data.append(i.strip().lower())\n",
    "    return \" \".join(clean_data)\n",
    "\n",
    "def contraction_expansion(content):\n",
    "    content = re.sub(r\"won\\'t\", \"would not\", content)\n",
    "    content = re.sub(r\"can\\'t\", \"can not\", content)\n",
    "    content = re.sub(r\"don\\'t\", \"do not\", content)\n",
    "    content = re.sub(r\"shouldn\\'t\", \"should not\", content)\n",
    "    content = re.sub(r\"needn\\'t\", \"need not\", content)\n",
    "    content = re.sub(r\"hasn\\'t\", \"has not\", content)\n",
    "    content = re.sub(r\"haven\\'t\", \"have not\", content)\n",
    "    content = re.sub(r\"weren\\'t\", \"were not\", content)\n",
    "    content = re.sub(r\"mightn\\'t\", \"might not\", content)\n",
    "    content = re.sub(r\"didn\\'t\", \"did not\", content)\n",
    "    content = re.sub(r\"n\\'t\", \" not\", content)\n",
    "    return content"
   ]
  },
  {
   "cell_type": "code",
   "execution_count": 33,
   "metadata": {},
   "outputs": [],
   "source": [
    "#Data preprocessing\n",
    "def data_cleaning(content):\n",
    "    content = contraction_expansion(content)\n",
    "    content = remove_special_character(content)\n",
    "    content = remove_url(content)\n",
    "    \n",
    "    content = remove_stopwords(content)    \n",
    "    return content"
   ]
  },
  {
   "cell_type": "code",
   "execution_count": 34,
   "metadata": {},
   "outputs": [
    {
     "data": {
      "text/html": [
       "<div>\n",
       "<style scoped>\n",
       "    .dataframe tbody tr th:only-of-type {\n",
       "        vertical-align: middle;\n",
       "    }\n",
       "\n",
       "    .dataframe tbody tr th {\n",
       "        vertical-align: top;\n",
       "    }\n",
       "\n",
       "    .dataframe thead th {\n",
       "        text-align: right;\n",
       "    }\n",
       "</style>\n",
       "<table border=\"1\" class=\"dataframe\">\n",
       "  <thead>\n",
       "    <tr style=\"text-align: right;\">\n",
       "      <th></th>\n",
       "      <th>Ratings</th>\n",
       "      <th>Reviews</th>\n",
       "      <th>Movies</th>\n",
       "      <th>Resenhas</th>\n",
       "      <th>Reviews_clean</th>\n",
       "    </tr>\n",
       "  </thead>\n",
       "  <tbody>\n",
       "    <tr>\n",
       "      <th>0</th>\n",
       "      <td>1.0</td>\n",
       "      <td>*Disclaimer: I only watched this movie as a conditional agreement. And I see films for free. I wouldn't be caught dead giving my hard earned money to these idiots.Well, to explain the depth of this 'film', I could write my shortest review, ever. Don't see this movie. It is by far the stupidest, lamest, most lazy, and unbelievably UNFUNNY movie I have ever seen. It is a total disaster. But since my hatred for this movie, and the others like it, extends far beyond one viewing, I think I'll go on for a bit.I don't know any of the people in the movie besides Carmen Electra, Vanessa Minnillo, and Kim Kardashian, but it doesn't matter. They're all horrible, though I think that was the point. The editing is flat out horrible, and possibly blatant continuity errors make this crapfast even crappier than I thought it would be. Now I know that these films are not supposed to be serious at all, but come on, it's film-making 101 that if someone gets a minor facial cut, it should be there in the...</td>\n",
       "      <td>Disaster Movie</td>\n",
       "      <td>* Isenção de responsabilidade: eu só assisti esse filme como um acordo condicional. E eu vejo filmes de graça. Eu não seria pego morto dando meu dinheiro suado a esses idiotas. Bem, para explicar a profundidade desse 'filme', eu poderia escrever minha crítica mais curta de todos os tempos. Não vê este filme. É de longe o filme mais estúpido, lamenta, preguiçoso e inacreditavelmente UNFUNNY que eu já vi. É um desastre total. Mas como o meu ódio por este filme e por outros, se estende muito além de uma exibição, acho que vou continuar um pouco. Não conheço nenhuma das pessoas do filme além de Carmen Electra, Vanessa Minnillo, e Kim Kardashian, mas isso não importa. Eles são todos horríveis, embora eu ache que esse seja o ponto. A edição é horrível e, possivelmente, erros de continuidade flagrantes tornam essa porcaria ainda mais horrível do que eu pensava. Agora eu sei que esses filmes não devem ser sérios, mas vamos lá, é o cinema 101 que se alguém fizer um pequeno corte facial, ele...</td>\n",
       "      <td>disclaimer watched movie conditional agreement see films free not caught dead giving hard earned money idiots well explain depth write shortest review ever not see movie far stupidest lamest lazy unbelievably unfunny movie ever seen total disaster since hatred movie others like extends far beyond viewing think go bit not know people movie besides carmen electra vanessa minnillo kim kardashian not matter horrible though think point editing flat horrible possibly blatant continuity errors make crapfast even crappier thought know films not supposed serious come making someone gets minor facial cut next shot someone gets cut sword blood least cut though since narnia films get away give disaster movie pass jokes thoughtless mindless physical gags obviously take popular movies last year late well including best picture nominees know saddest thing stupid movies not care much money make many cameos sorry ass excuses films taking away jobs actors writers directors truly deserve attention li...</td>\n",
       "    </tr>\n",
       "    <tr>\n",
       "      <th>1</th>\n",
       "      <td>1.0</td>\n",
       "      <td>I am writing this in hopes that this gets put over the previous review of this \"film\". How anyone can find this slop entertaining is completely beyond me. First of all a spoof film entitled \"Disaster Movie\", should indeed be a spoof on disaster films. Now I have seen 1 (yes count them, 1) disaster film being spoofed, that being \"Twister\". How does Juno, Iron Man, Batman, The Hulk, Alvin and the Chipmunks, Amy Winehouse, or Hancock register as Disaster films? Selzterwater and Failburg once again have shown that they lack any sort of writing skill and humor. Having unfortunately been tortured with Date Movie and Epic Movie I know exactly what to expect from these two...no plot, no jokes just bad references and cheaply remade scenes from other films. Someone should have informed them that satire is more than just copy and paste from one film to another, though I shouldn't say that because some of these actually just seem to be taken from trailers.There is nothing clever or witty or re...</td>\n",
       "      <td>Disaster Movie</td>\n",
       "      <td>Estou escrevendo isso na esperança de que isso seja colocado sobre a revisão anterior deste \"filme\". Como alguém pode achar divertido esse desleixo está completamente além de mim. Antes de mais nada, um filme de paródia intitulado \"Filme de desastre\" deveria ser, de fato, uma paródia de filmes de desastre. Agora eu já vi 1 (sim, conte-os, 1) filme de desastre sendo falsificado, sendo \"Twister\". Como Juno, Homem de Ferro, Batman, O Hulk, Alvin e os Esquilos, Amy Winehouse ou Hancock se registram como filmes de Desastre? Selzterwater e Failburg mostraram mais uma vez que não possuem nenhum tipo de habilidade e humor de escrita. Infelizmente, tendo sido torturado com Date Movie e Epic Movie, sei exatamente o que esperar desses dois ... nenhum enredo, nenhuma piada, apenas más referências e cenas refeitas de outros filmes. Alguém deveria ter informado a eles que a sátira é mais do que apenas copiar e colar de um filme para outro, embora eu não deva dizer isso porque alguns deles realme...</td>\n",
       "      <td>writing hopes gets put previous review anyone find slop entertaining completely beyond first spoof entitled disaster movie indeed spoof disaster films seen yes count disaster spoofed twister juno iron man batman hulk alvin chipmunks amy winehouse hancock register disaster films selzterwater failburg shown lack sort writing skill humor unfortunately tortured date movie epic movie know exactly expect two plot jokes bad references cheaply remade scenes films someone informed satire copy paste another though not say actually seem taken trailers nothing clever witty remotely smart way two write not believe people still pay see travesties insult audience though enjoy films doubt smart enough realize rating unfortunately not number low enough yes includes negatives rate deserves top worst films time right date movie epic faliure mean movie meet spartans rather forced hour manos hands fate marathon watch slop</td>\n",
       "    </tr>\n",
       "    <tr>\n",
       "      <th>2</th>\n",
       "      <td>1.0</td>\n",
       "      <td>Really, I could write a scathing review of this turd sandwich, but instead, I'm just going to be making a few observations and points I've deduced.There's just no point in watching these movies anymore. Does any reader out there remember Scary Movie? Remember how it was original with a few comedic elements to it? There was slapstick, some funny lines, it was a pretty forgettable comedy, but it was worth the price of admission. Well, That was the last time this premise was funny. STOP MAKING THESE MOVIES. PLEASE.I could call for a boycott of these pieces of monkey sh*t, but we all know there's going to be a line up of pre pubescent annoying little buggers, spouting crappy one liners like, \"THIS IS SPARTA!\" and, \"IM RICK JAMES BITCH\" so these movies will continue to make some form of monetary gain, considering the production value of this movie looks like it cost about 10 cents to make.Don't see this movie. Don't spend any money on it. Go home, rent Airplane, laugh your ass off, and ...</td>\n",
       "      <td>Disaster Movie</td>\n",
       "      <td>Realmente, eu poderia escrever uma crítica contundente sobre esse sanduíche de cocô, mas, em vez disso, vou fazer algumas observações e pontos que deduzi. Não há mais sentido assistir a esses filmes. Algum leitor por aí se lembra do filme de terror? Lembra como era original, com alguns elementos cômicos? Havia palhaçada, algumas frases engraçadas, era uma comédia bastante esquecível, mas valia o preço da entrada. Bem, essa foi a última vez que essa premissa foi engraçada. PARE DE FAZER ESTES FILMES. POR FAVOR, eu poderia pedir um boicote a esses pedaços de macaco, mas todos sabemos que haverá uma fila de buggers irritantes e pré-pubescentes, jorrando uns forros ruins como: \"ISTO É SPARTA!\" e \"IM RICK JAMES BITCH\", para que esses filmes continuem gerando algum ganho monetário, considerando que o valor de produção deste filme parece custar cerca de 10 centavos de dólar. Não gaste dinheiro com isso. Vá para casa, alugue a Airplane, ria e julgue silenciosamente as pessoas que estão fal...</td>\n",
       "      <td>really write scathing review turd sandwich instead going making observations points deduced point watching movies anymore reader remember scary movie remember original comedic elements slapstick funny lines pretty forgettable comedy worth price admission well last time premise funny stop making movies please call boycott pieces monkey sh know going line pre pubescent annoying little buggers spouting crappy liners like sparta im rick james bitch movies continue make form monetary gain considering production value movie looks like cost cents make not see movie not spend money go home rent airplane laugh ass silently judge people talking movie monday favor</td>\n",
       "    </tr>\n",
       "    <tr>\n",
       "      <th>3</th>\n",
       "      <td>1.0</td>\n",
       "      <td>If you saw the other previous spoof movies by these two horrible gentlemen, then you should know that this already will be bad. I'll tell you the truth, if you want to watch it as a brainless person (ironically meant for the stereotypical teenagers, which I am not) then you will laugh at it a bit. But if you judge it, even a little, the movie automatically fails. Why? Never ask that when it comes to these two men.Remember the good old Hollywood days whenever making a movie was about showing people a type of art, and also a story that kept you on the edge of your seat? Well whenever word hit that making films earned you loads of cash, then all these greedy people came in the picture and its quite pathetic. These two are no exception. We still have movie artists (most notably the genius that is Christopher Nolan). But these two guys just...well I've been writing so big words, let me put it in simple terms for these guys...These guys suck, they are not artists, but instead money cravi...</td>\n",
       "      <td>Disaster Movie</td>\n",
       "      <td>Se você viu os outros filmes falsificados anteriores por esses dois senhores horríveis, deve saber que isso já será ruim. Vou lhe dizer a verdade, se você quiser vê-lo como uma pessoa sem cérebro (ironicamente para os adolescentes estereotipados, o que eu não sou), então você rirá um pouco. Mas se você julgar, mesmo que um pouco, o filme falha automaticamente. Por quê? Nunca pergunte isso quando se trata desses dois homens. Lembre-se dos bons e velhos tempos de Hollywood, sempre que fazer um filme era mostrar às pessoas um tipo de arte e também uma história que o mantinha na ponta do seu assento? Bem, sempre que a notícia de que fazer filmes ganhava muito dinheiro, então todas essas pessoas gananciosas apareciam na imagem e é bastante patético. Esses dois não são exceção. Ainda temos artistas de filmes (principalmente o gênio Christopher Nolan). Mas esses dois caras simplesmente ... bem, eu tenho escrito palavras tão grandes, deixe-me colocar em termos simples para esses caras ... ...</td>\n",
       "      <td>saw previous spoof movies two horrible gentlemen know already bad tell truth want watch brainless person ironically meant stereotypical teenagers not laugh bit judge even little movie automatically fails never ask comes two men remember good old hollywood days whenever making movie showing people type art also story kept edge seat well whenever word hit making films earned loads cash greedy people came picture quite pathetic two exception still movie artists notably genius christopher nolan two guys well writing big words let put simple terms guys guys suck not artists instead money craving whores latest movie proves even movie fails easily mind blowing mean nothing funny trailer people usually put best stuff like idiots sometimes knew going bad made bet friends not good idea write movie reviews paper tell everyone whats good whats bad friends flipped review well warning least not even called movie nothing artistic original jokes sorry references made throughout pretty much random ...</td>\n",
       "    </tr>\n",
       "    <tr>\n",
       "      <th>4</th>\n",
       "      <td>1.0</td>\n",
       "      <td>This movie I saw a day early for free and I still feel like I got ripped off. It is totally brain dead. Burping, kicking in the groin and boobs all over the place. Lame. What is wrong with society, that films like this even get made? The parodies were all horrendous, and un-funny. The plot was lackluster at best and the acting was shallow, transparent and really quite unnecessary.Anyone see \"Idiocracy\"? Remember the movie that won all the academy awards in the future? Well this is that movie. I have not seen a more rancid crappy film. \"Date Movie\" was okay, The Scary movies at least had decent plots, but this, this makes \"spoofs\" (if I can be so nice to call it that) for this year 0 for 3, with \"Meet the Spartans\" and \"Superhero Movie\" all falling flat.Well I've wasted even more of my life typing about this sack of cow dung. So all in all, don't see this movie, unless of course your IQ is below 80.Thanks, R</td>\n",
       "      <td>Disaster Movie</td>\n",
       "      <td>Este filme eu vi um dia cedo de graça e ainda sinto que fui enganado. É totalmente morte cerebral. Arrotando, chutando a virilha e os peitos por todo o lugar. Coxo. O que há de errado com a sociedade, que filmes como esse são feitos? As paródias eram todas horrendas e pouco engraçadas. O enredo foi sem brilho, na melhor das hipóteses, e a atuação foi superficial, transparente e realmente bastante desnecessária. Alguém vê \"Idiocracia\"? Lembra do filme que ganhou todos os prêmios da academia no futuro? Bem, este é esse filme. Eu não vi um filme de baixa qualidade mais rançoso. \"Date Movie\" foi bom, The Scary Movies pelo menos teve enredos decentes, mas isso faz \"spoofs\" (se é que posso dizer assim) para este ano 0 para 3, com \"Meet the Spartans\" e \"Filme de super-heróis\" todos caindo. Bem, eu perdi ainda mais da minha vida digitando sobre esse saco de esterco de vaca. Então, apesar de tudo, não assista a este filme, a menos que o seu QI seja inferior a 80.</td>\n",
       "      <td>movie saw day early free still feel like got ripped totally brain dead burping kicking groin boobs place lame wrong society films like even get made parodies horrendous un funny plot lackluster best acting shallow transparent really quite unnecessary anyone see idiocracy remember movie academy awards future well movie not seen rancid crappy date movie okay scary movies least decent plots makes spoofs nice call year meet spartans superhero movie falling flat well wasted even life typing sack cow dung not see movie unless course iq thanks r</td>\n",
       "    </tr>\n",
       "  </tbody>\n",
       "</table>\n",
       "</div>"
      ],
      "text/plain": [
       "   Ratings  \\\n",
       "0      1.0   \n",
       "1      1.0   \n",
       "2      1.0   \n",
       "3      1.0   \n",
       "4      1.0   \n",
       "\n",
       "                                                                                                                                                                                                                                                                                                                                                                                                                                                                                                                                                                                                                                                                                                                                                                                                                                                                                                                                                                                                                                   Reviews  \\\n",
       "0  *Disclaimer: I only watched this movie as a conditional agreement. And I see films for free. I wouldn't be caught dead giving my hard earned money to these idiots.Well, to explain the depth of this 'film', I could write my shortest review, ever. Don't see this movie. It is by far the stupidest, lamest, most lazy, and unbelievably UNFUNNY movie I have ever seen. It is a total disaster. But since my hatred for this movie, and the others like it, extends far beyond one viewing, I think I'll go on for a bit.I don't know any of the people in the movie besides Carmen Electra, Vanessa Minnillo, and Kim Kardashian, but it doesn't matter. They're all horrible, though I think that was the point. The editing is flat out horrible, and possibly blatant continuity errors make this crapfast even crappier than I thought it would be. Now I know that these films are not supposed to be serious at all, but come on, it's film-making 101 that if someone gets a minor facial cut, it should be there in the...   \n",
       "1  I am writing this in hopes that this gets put over the previous review of this \"film\". How anyone can find this slop entertaining is completely beyond me. First of all a spoof film entitled \"Disaster Movie\", should indeed be a spoof on disaster films. Now I have seen 1 (yes count them, 1) disaster film being spoofed, that being \"Twister\". How does Juno, Iron Man, Batman, The Hulk, Alvin and the Chipmunks, Amy Winehouse, or Hancock register as Disaster films? Selzterwater and Failburg once again have shown that they lack any sort of writing skill and humor. Having unfortunately been tortured with Date Movie and Epic Movie I know exactly what to expect from these two...no plot, no jokes just bad references and cheaply remade scenes from other films. Someone should have informed them that satire is more than just copy and paste from one film to another, though I shouldn't say that because some of these actually just seem to be taken from trailers.There is nothing clever or witty or re...   \n",
       "2  Really, I could write a scathing review of this turd sandwich, but instead, I'm just going to be making a few observations and points I've deduced.There's just no point in watching these movies anymore. Does any reader out there remember Scary Movie? Remember how it was original with a few comedic elements to it? There was slapstick, some funny lines, it was a pretty forgettable comedy, but it was worth the price of admission. Well, That was the last time this premise was funny. STOP MAKING THESE MOVIES. PLEASE.I could call for a boycott of these pieces of monkey sh*t, but we all know there's going to be a line up of pre pubescent annoying little buggers, spouting crappy one liners like, \"THIS IS SPARTA!\" and, \"IM RICK JAMES BITCH\" so these movies will continue to make some form of monetary gain, considering the production value of this movie looks like it cost about 10 cents to make.Don't see this movie. Don't spend any money on it. Go home, rent Airplane, laugh your ass off, and ...   \n",
       "3  If you saw the other previous spoof movies by these two horrible gentlemen, then you should know that this already will be bad. I'll tell you the truth, if you want to watch it as a brainless person (ironically meant for the stereotypical teenagers, which I am not) then you will laugh at it a bit. But if you judge it, even a little, the movie automatically fails. Why? Never ask that when it comes to these two men.Remember the good old Hollywood days whenever making a movie was about showing people a type of art, and also a story that kept you on the edge of your seat? Well whenever word hit that making films earned you loads of cash, then all these greedy people came in the picture and its quite pathetic. These two are no exception. We still have movie artists (most notably the genius that is Christopher Nolan). But these two guys just...well I've been writing so big words, let me put it in simple terms for these guys...These guys suck, they are not artists, but instead money cravi...   \n",
       "4                                                                                 This movie I saw a day early for free and I still feel like I got ripped off. It is totally brain dead. Burping, kicking in the groin and boobs all over the place. Lame. What is wrong with society, that films like this even get made? The parodies were all horrendous, and un-funny. The plot was lackluster at best and the acting was shallow, transparent and really quite unnecessary.Anyone see \"Idiocracy\"? Remember the movie that won all the academy awards in the future? Well this is that movie. I have not seen a more rancid crappy film. \"Date Movie\" was okay, The Scary movies at least had decent plots, but this, this makes \"spoofs\" (if I can be so nice to call it that) for this year 0 for 3, with \"Meet the Spartans\" and \"Superhero Movie\" all falling flat.Well I've wasted even more of my life typing about this sack of cow dung. So all in all, don't see this movie, unless of course your IQ is below 80.Thanks, R   \n",
       "\n",
       "           Movies  \\\n",
       "0  Disaster Movie   \n",
       "1  Disaster Movie   \n",
       "2  Disaster Movie   \n",
       "3  Disaster Movie   \n",
       "4  Disaster Movie   \n",
       "\n",
       "                                                                                                                                                                                                                                                                                                                                                                                                                                                                                                                                                                                                                                                                                                                                                                                                                                                                                                                                                                                                                                  Resenhas  \\\n",
       "0  * Isenção de responsabilidade: eu só assisti esse filme como um acordo condicional. E eu vejo filmes de graça. Eu não seria pego morto dando meu dinheiro suado a esses idiotas. Bem, para explicar a profundidade desse 'filme', eu poderia escrever minha crítica mais curta de todos os tempos. Não vê este filme. É de longe o filme mais estúpido, lamenta, preguiçoso e inacreditavelmente UNFUNNY que eu já vi. É um desastre total. Mas como o meu ódio por este filme e por outros, se estende muito além de uma exibição, acho que vou continuar um pouco. Não conheço nenhuma das pessoas do filme além de Carmen Electra, Vanessa Minnillo, e Kim Kardashian, mas isso não importa. Eles são todos horríveis, embora eu ache que esse seja o ponto. A edição é horrível e, possivelmente, erros de continuidade flagrantes tornam essa porcaria ainda mais horrível do que eu pensava. Agora eu sei que esses filmes não devem ser sérios, mas vamos lá, é o cinema 101 que se alguém fizer um pequeno corte facial, ele...   \n",
       "1  Estou escrevendo isso na esperança de que isso seja colocado sobre a revisão anterior deste \"filme\". Como alguém pode achar divertido esse desleixo está completamente além de mim. Antes de mais nada, um filme de paródia intitulado \"Filme de desastre\" deveria ser, de fato, uma paródia de filmes de desastre. Agora eu já vi 1 (sim, conte-os, 1) filme de desastre sendo falsificado, sendo \"Twister\". Como Juno, Homem de Ferro, Batman, O Hulk, Alvin e os Esquilos, Amy Winehouse ou Hancock se registram como filmes de Desastre? Selzterwater e Failburg mostraram mais uma vez que não possuem nenhum tipo de habilidade e humor de escrita. Infelizmente, tendo sido torturado com Date Movie e Epic Movie, sei exatamente o que esperar desses dois ... nenhum enredo, nenhuma piada, apenas más referências e cenas refeitas de outros filmes. Alguém deveria ter informado a eles que a sátira é mais do que apenas copiar e colar de um filme para outro, embora eu não deva dizer isso porque alguns deles realme...   \n",
       "2  Realmente, eu poderia escrever uma crítica contundente sobre esse sanduíche de cocô, mas, em vez disso, vou fazer algumas observações e pontos que deduzi. Não há mais sentido assistir a esses filmes. Algum leitor por aí se lembra do filme de terror? Lembra como era original, com alguns elementos cômicos? Havia palhaçada, algumas frases engraçadas, era uma comédia bastante esquecível, mas valia o preço da entrada. Bem, essa foi a última vez que essa premissa foi engraçada. PARE DE FAZER ESTES FILMES. POR FAVOR, eu poderia pedir um boicote a esses pedaços de macaco, mas todos sabemos que haverá uma fila de buggers irritantes e pré-pubescentes, jorrando uns forros ruins como: \"ISTO É SPARTA!\" e \"IM RICK JAMES BITCH\", para que esses filmes continuem gerando algum ganho monetário, considerando que o valor de produção deste filme parece custar cerca de 10 centavos de dólar. Não gaste dinheiro com isso. Vá para casa, alugue a Airplane, ria e julgue silenciosamente as pessoas que estão fal...   \n",
       "3  Se você viu os outros filmes falsificados anteriores por esses dois senhores horríveis, deve saber que isso já será ruim. Vou lhe dizer a verdade, se você quiser vê-lo como uma pessoa sem cérebro (ironicamente para os adolescentes estereotipados, o que eu não sou), então você rirá um pouco. Mas se você julgar, mesmo que um pouco, o filme falha automaticamente. Por quê? Nunca pergunte isso quando se trata desses dois homens. Lembre-se dos bons e velhos tempos de Hollywood, sempre que fazer um filme era mostrar às pessoas um tipo de arte e também uma história que o mantinha na ponta do seu assento? Bem, sempre que a notícia de que fazer filmes ganhava muito dinheiro, então todas essas pessoas gananciosas apareciam na imagem e é bastante patético. Esses dois não são exceção. Ainda temos artistas de filmes (principalmente o gênio Christopher Nolan). Mas esses dois caras simplesmente ... bem, eu tenho escrito palavras tão grandes, deixe-me colocar em termos simples para esses caras ... ...   \n",
       "4                                 Este filme eu vi um dia cedo de graça e ainda sinto que fui enganado. É totalmente morte cerebral. Arrotando, chutando a virilha e os peitos por todo o lugar. Coxo. O que há de errado com a sociedade, que filmes como esse são feitos? As paródias eram todas horrendas e pouco engraçadas. O enredo foi sem brilho, na melhor das hipóteses, e a atuação foi superficial, transparente e realmente bastante desnecessária. Alguém vê \"Idiocracia\"? Lembra do filme que ganhou todos os prêmios da academia no futuro? Bem, este é esse filme. Eu não vi um filme de baixa qualidade mais rançoso. \"Date Movie\" foi bom, The Scary Movies pelo menos teve enredos decentes, mas isso faz \"spoofs\" (se é que posso dizer assim) para este ano 0 para 3, com \"Meet the Spartans\" e \"Filme de super-heróis\" todos caindo. Bem, eu perdi ainda mais da minha vida digitando sobre esse saco de esterco de vaca. Então, apesar de tudo, não assista a este filme, a menos que o seu QI seja inferior a 80.   \n",
       "\n",
       "                                                                                                                                                                                                                                                                                                                                                                                                                                                                                                                                                                                                                                                                                                                                                                                                                                                                                                                                                                                                                             Reviews_clean  \n",
       "0  disclaimer watched movie conditional agreement see films free not caught dead giving hard earned money idiots well explain depth write shortest review ever not see movie far stupidest lamest lazy unbelievably unfunny movie ever seen total disaster since hatred movie others like extends far beyond viewing think go bit not know people movie besides carmen electra vanessa minnillo kim kardashian not matter horrible though think point editing flat horrible possibly blatant continuity errors make crapfast even crappier thought know films not supposed serious come making someone gets minor facial cut next shot someone gets cut sword blood least cut though since narnia films get away give disaster movie pass jokes thoughtless mindless physical gags obviously take popular movies last year late well including best picture nominees know saddest thing stupid movies not care much money make many cameos sorry ass excuses films taking away jobs actors writers directors truly deserve attention li...  \n",
       "1                                                                                       writing hopes gets put previous review anyone find slop entertaining completely beyond first spoof entitled disaster movie indeed spoof disaster films seen yes count disaster spoofed twister juno iron man batman hulk alvin chipmunks amy winehouse hancock register disaster films selzterwater failburg shown lack sort writing skill humor unfortunately tortured date movie epic movie know exactly expect two plot jokes bad references cheaply remade scenes films someone informed satire copy paste another though not say actually seem taken trailers nothing clever witty remotely smart way two write not believe people still pay see travesties insult audience though enjoy films doubt smart enough realize rating unfortunately not number low enough yes includes negatives rate deserves top worst films time right date movie epic faliure mean movie meet spartans rather forced hour manos hands fate marathon watch slop  \n",
       "2                                                                                                                                                                                                                                                                                                                                                    really write scathing review turd sandwich instead going making observations points deduced point watching movies anymore reader remember scary movie remember original comedic elements slapstick funny lines pretty forgettable comedy worth price admission well last time premise funny stop making movies please call boycott pieces monkey sh know going line pre pubescent annoying little buggers spouting crappy liners like sparta im rick james bitch movies continue make form monetary gain considering production value movie looks like cost cents make not see movie not spend money go home rent airplane laugh ass silently judge people talking movie monday favor  \n",
       "3  saw previous spoof movies two horrible gentlemen know already bad tell truth want watch brainless person ironically meant stereotypical teenagers not laugh bit judge even little movie automatically fails never ask comes two men remember good old hollywood days whenever making movie showing people type art also story kept edge seat well whenever word hit making films earned loads cash greedy people came picture quite pathetic two exception still movie artists notably genius christopher nolan two guys well writing big words let put simple terms guys guys suck not artists instead money craving whores latest movie proves even movie fails easily mind blowing mean nothing funny trailer people usually put best stuff like idiots sometimes knew going bad made bet friends not good idea write movie reviews paper tell everyone whats good whats bad friends flipped review well warning least not even called movie nothing artistic original jokes sorry references made throughout pretty much random ...  \n",
       "4                                                                                                                                                                                                                                                                                                                                                                                                                                                                         movie saw day early free still feel like got ripped totally brain dead burping kicking groin boobs place lame wrong society films like even get made parodies horrendous un funny plot lackluster best acting shallow transparent really quite unnecessary anyone see idiocracy remember movie academy awards future well movie not seen rancid crappy date movie okay scary movies least decent plots makes spoofs nice call year meet spartans superhero movie falling flat well wasted even life typing sack cow dung not see movie unless course iq thanks r  "
      ]
     },
     "execution_count": 34,
     "metadata": {},
     "output_type": "execute_result"
    }
   ],
   "source": [
    "pd.options.display.max_colwidth = 1000\n",
    "#Data cleaning\n",
    "df['Reviews_clean']=df['Reviews'].apply(data_cleaning)\n",
    "df.head(5)"
   ]
  },
  {
   "cell_type": "markdown",
   "metadata": {},
   "source": [
    "# Feature Engineering"
   ]
  },
  {
   "cell_type": "code",
   "execution_count": 35,
   "metadata": {},
   "outputs": [
    {
     "name": "stdout",
     "output_type": "stream",
     "text": [
      "Label\n",
      "0    60000\n",
      "1    60000\n",
      "Name: count, dtype: int64\n"
     ]
    }
   ],
   "source": [
    "#Mapping rating data to Binary label 1 (+ve) if rating >=7 and 0 (-ve) if rating <=4 and 2 (neutral) if rating = 5 or 6\n",
    "df['Label'] = df['Ratings'].apply(lambda x: '1' if x >= 7 else ('0' if x<=4 else '2'))\n",
    "#Removing \n",
    "df=df[df.Label<'2']\n",
    "data=df[['Reviews_clean','Label']]\n",
    "print(data['Label'].value_counts())"
   ]
  },
  {
   "cell_type": "code",
   "execution_count": 36,
   "metadata": {},
   "outputs": [],
   "source": [
    "#Importing dependencies for feature engineering \n",
    "import sys\n",
    "import os\n",
    "from sklearn.feature_extraction.text import CountVectorizer\n",
    "from sklearn.feature_extraction.text import TfidfVectorizer\n",
    "from sklearn.model_selection import train_test_split\n",
    "from sklearn.linear_model import LogisticRegression\n",
    "from sklearn.ensemble import RandomForestClassifier\n",
    "import pandas as pd\n",
    "from prettytable import PrettyTable\n",
    "from nltk import word_tokenize          \n",
    "from nltk.stem import WordNetLemmatizer"
   ]
  },
  {
   "cell_type": "markdown",
   "metadata": {},
   "source": [
    "# Lemmatization"
   ]
  },
  {
   "cell_type": "code",
   "execution_count": 37,
   "metadata": {},
   "outputs": [],
   "source": [
    "\"\"\"\"\n",
    "Lemmatization is the process of converting a word to its base form.\n",
    "The difference between stemming and lemmatization is, lemmatization considers the context and converts the word to its meaningful base form, \n",
    "whereas stemming just removes the last few characters, often leading to incorrect meanings and spelling errors.\n",
    "\"\"\" \n",
    "class LemmaTokenizer(object):\n",
    "    def __init__(self):\n",
    "        self.wordnetlemma = WordNetLemmatizer()\n",
    "    def __call__(self, reviews):\n",
    "        return [self.wordnetlemma.lemmatize(word) for word in word_tokenize(reviews)]"
   ]
  },
  {
   "cell_type": "markdown",
   "metadata": {},
   "source": [
    "## Vectoization with Count Vectorizer and TDIDF Vectorizer with Unigram"
   ]
  },
  {
   "cell_type": "code",
   "execution_count": 42,
   "metadata": {},
   "outputs": [
    {
     "name": "stderr",
     "output_type": "stream",
     "text": [
      "[nltk_data] Downloading package wordnet to\n",
      "[nltk_data]     /home/spicytalha/nltk_data...\n",
      "[nltk_data]   Package wordnet is already up-to-date!\n",
      "[nltk_data] Downloading package omw-1.4 to\n",
      "[nltk_data]     /home/spicytalha/nltk_data...\n",
      "[nltk_data]   Package omw-1.4 is already up-to-date!\n",
      "[nltk_data] Downloading package punkt to /home/spicytalha/nltk_data...\n",
      "[nltk_data]   Package punkt is already up-to-date!\n",
      "[nltk_data] Downloading package punkt_tab to\n",
      "[nltk_data]     /home/spicytalha/nltk_data...\n"
     ]
    },
    {
     "name": "stdout",
     "output_type": "stream",
     "text": [
      "['/home/spicytalha/nltk_data', '/home/spicytalha/Desktop/EmoScan/Emoscan/nltk_data', '/home/spicytalha/Desktop/EmoScan/Emoscan/share/nltk_data', '/home/spicytalha/Desktop/EmoScan/Emoscan/lib/nltk_data', '/usr/share/nltk_data', '/usr/local/share/nltk_data', '/usr/lib/nltk_data', '/usr/local/lib/nltk_data', '/home/spicytalha/nltk_data', '/home/spicytalha/nltk_data', '/home/spicytalha/nltk_data']\n"
     ]
    },
    {
     "name": "stderr",
     "output_type": "stream",
     "text": [
      "[nltk_data]   Unzipping tokenizers/punkt_tab.zip.\n"
     ]
    }
   ],
   "source": [
    "nltk.download('wordnet')\n",
    "nltk.download('omw-1.4')\n",
    "nltk.download('punkt')\n",
    "nltk.download('punkt_tab')\n",
    "\n",
    "print(nltk.data.path)"
   ]
  },
  {
   "cell_type": "code",
   "execution_count": 43,
   "metadata": {},
   "outputs": [],
   "source": [
    "train,test=train_test_split(data,test_size=.3,random_state=42, shuffle=True)\n",
    "countvect = CountVectorizer(analyzer = \"word\", tokenizer = LemmaTokenizer(), ngram_range=(1,1), min_df=10,max_features=500)\n",
    "tfidfvect = TfidfVectorizer(analyzer = \"word\", tokenizer = LemmaTokenizer(), ngram_range=(1,1),min_df=10,max_features=500)\n",
    "x_train_count = countvect.fit_transform(train['Reviews_clean']).toarray()\n",
    "x_test_count = countvect.transform(test['Reviews_clean']).toarray()\n",
    "x_train_tfidf = tfidfvect.fit_transform(train['Reviews_clean']).toarray()\n",
    "x_test_tfidf = tfidfvect.transform(test['Reviews_clean']).toarray()\n",
    "y_train = train['Label']\n",
    "y_test = test['Label']"
   ]
  },
  {
   "cell_type": "markdown",
   "metadata": {},
   "source": [
    "## Feature Importance with Logistic Regression and Count Vectorizer with Trigram"
   ]
  },
  {
   "cell_type": "code",
   "execution_count": 45,
   "metadata": {},
   "outputs": [
    {
     "name": "stdout",
     "output_type": "stream",
     "text": [
      "+----------------+------------------------+\n",
      "|    Feature     |         Score          |\n",
      "+----------------+------------------------+\n",
      "|      able      |  0.10567661119790484   |\n",
      "|   absolutely   |  0.058676056713693456  |\n",
      "|      act       |  -0.15662845366635958  |\n",
      "|     acting     |  -0.1676605674361509   |\n",
      "|     action     |   0.2679953883546586   |\n",
      "|     actor      |  -0.12780367185872515  |\n",
      "|    actress     |  -0.14159594818346846  |\n",
      "|    actually    | -0.050698526686439864  |\n",
      "|      add       |   0.0300483140558383   |\n",
      "|     adult      |  0.058507010494409546  |\n",
      "|      age       |  0.10133358369064419   |\n",
      "|     alien      |  -0.06915678497267286  |\n",
      "|     almost     |  -0.01290639381790843  |\n",
      "|     along      |  0.12049234280632316   |\n",
      "|    already     |  -0.2093305575657701   |\n",
      "|      also      |   0.1020583959395954   |\n",
      "|    although    |   0.1987356965102391   |\n",
      "|     always     |   0.1969734880269331   |\n",
      "|    amazing     |   0.8424295193309049   |\n",
      "|    american    |  0.051203394883285826  |\n",
      "|    annoying    |  -0.7498915602518842   |\n",
      "|    another     |  -0.1514036523435209   |\n",
      "|     anyone     | -0.017443078500146734  |\n",
      "|    anything    |  -0.2925528209713188   |\n",
      "|     anyway     |  0.041696785615081736  |\n",
      "|     around     |  -0.09732345238477962  |\n",
      "|      art       | -0.002147911434268699  |\n",
      "|    attempt     |  -0.6717501601947877   |\n",
      "|   attention    |  0.30935652110927053   |\n",
      "|    audience    | -0.007713118112426999  |\n",
      "|    average     |  -0.28383180786181117  |\n",
      "|      away      |  0.06321395155206383   |\n",
      "|     awful      |  -1.1934910382854365   |\n",
      "|       b        | -0.013129233348365514  |\n",
      "|      back      |  0.026127421419625662  |\n",
      "|      bad       |  -0.34429003384129325  |\n",
      "|     based      |  0.10040290254239766   |\n",
      "|   beautiful    |  0.42785660684987564   |\n",
      "|     become     |  0.09484414582657147   |\n",
      "|    becomes     |  -0.10987567275382275  |\n",
      "|     begin      |  -0.04690042533529923  |\n",
      "|   beginning    |   0.1727441178004392   |\n",
      "|     behind     |  -0.03392849947331922  |\n",
      "|    believe     | 0.0035824169384148035  |\n",
      "|      best      |   0.4138280584712492   |\n",
      "|     better     |  -0.05546489104670693  |\n",
      "|      big       | -0.020002046703703116  |\n",
      "|      bit       |  0.19743273248639498   |\n",
      "|     black      | -0.022186663357075857  |\n",
      "|     blood      | -0.062443651363308095  |\n",
      "|      body      |  -0.03670082603629542  |\n",
      "|      book      | -0.042990481569315314  |\n",
      "|     boring     |   -1.092748316638992   |\n",
      "|      boy       |  0.009230290685868824  |\n",
      "|   brilliant    |   0.9130986957926848   |\n",
      "|    brother     |  0.03344967710712994   |\n",
      "|     budget     |  0.10606308375990531   |\n",
      "|      call      |  0.01619371134342091   |\n",
      "|     called     |  -0.1314589142322541   |\n",
      "|      came      |  -0.15975271989325207  |\n",
      "|     camera     |  -0.06693579445776594  |\n",
      "|      car       | -0.014628154391289566  |\n",
      "|      care      |   -0.209566334104104   |\n",
      "|      case      |  -0.09382075540470511  |\n",
      "|      cast      |  0.06276303183567183   |\n",
      "|   certainly    |   0.3128078973034789   |\n",
      "|      cgi       |  -0.09431957997821488  |\n",
      "|     chance     |  0.14929446459514273   |\n",
      "|     change     |   0.1489787435720837   |\n",
      "|   character    | -0.008864287025755499  |\n",
      "|     cheap      |  -0.5953772248389656   |\n",
      "|     child      |  0.001275971915152162  |\n",
      "|     cinema     |  0.14031131363588945   |\n",
      "| cinematography |  0.26505050205438974   |\n",
      "|    classic     |   0.307131586490128    |\n",
      "|     close      |  0.025179397867417137  |\n",
      "|      come      | -0.024260523939165925  |\n",
      "|     comedy     |  0.019179029350902026  |\n",
      "|     comic      |  0.22335074763104054   |\n",
      "|     coming     |  0.17545643964480095   |\n",
      "|    complete    |  -0.3153481231515746   |\n",
      "|   completely   |  -0.22542563756783016  |\n",
      "|      cool      |  0.16677771936388505   |\n",
      "|     couple     |  -0.10191312377464735  |\n",
      "|     course     |  0.07281731878972596   |\n",
      "|      crap      |  -0.5119723501623727   |\n",
      "|    creature    |  -0.08871506942715271  |\n",
      "|     credit     |  0.05520524498128075   |\n",
      "|      cut       |  -0.04484022379220614  |\n",
      "|      dark      |  0.20620305942698008   |\n",
      "|    daughter    |  -0.04450302188413452  |\n",
      "|      day       |  0.10240082125648906   |\n",
      "|      dead      |  0.012351198293751846  |\n",
      "|     death      |  0.03258790997564291   |\n",
      "|     decent     |  -0.1781019143846488   |\n",
      "|   definitely   |   0.6160595557438291   |\n",
      "|    despite     |  0.03891361243814351   |\n",
      "|    dialogue    |  -0.26347992389320124  |\n",
      "|   different    |   0.363272182080317    |\n",
      "|    directed    | -0.006416098814180403  |\n",
      "|   direction    |  -0.11747056298894784  |\n",
      "|    director    |  -0.10675916816219648  |\n",
      "|  disappointed  |  -0.4161740616657868   |\n",
      "|      done      |  0.06627830661320941   |\n",
      "|     drama      |  0.06790685879206129   |\n",
      "|      due       |  -0.07728461909724495  |\n",
      "|      dvd       |  0.07744402837283877   |\n",
      "|    editing     |  -0.04827356981959062  |\n",
      "|     effect     | 0.0002555204001681638  |\n",
      "|     effort     |  -0.2823817419228677   |\n",
      "|     either     |  -0.17572324180705295  |\n",
      "|    element     |  0.08907211574749581   |\n",
      "|      else      |  -0.1657138711137262   |\n",
      "|      end       |  -0.0800727773529964   |\n",
      "|     ending     |   0.1229844362991466   |\n",
      "|     enjoy      |   0.4215198167652687   |\n",
      "|   enjoyable    |   0.7489807706026547   |\n",
      "|    enjoyed     |   0.9004596620524477   |\n",
      "|     enough     |  -0.08207710046173124  |\n",
      "|  entertaining  |   0.5639681767317344   |\n",
      "| entertainment  |  0.28034530539024743   |\n",
      "|     entire     |  -0.13929460898643922  |\n",
      "|    episode     |  0.22044752230807196   |\n",
      "|   especially   |  0.23307477192939494   |\n",
      "|      etc       |  0.024614446017491128  |\n",
      "|      even      |  -0.2448945793693056   |\n",
      "|     event      |  0.09138205881700937   |\n",
      "|      ever      |  0.10323743623137435   |\n",
      "|     every      |  0.07700850120965326   |\n",
      "|    everyone    |  0.22742117491946223   |\n",
      "|   everything   | -0.015606372517689027  |\n",
      "|      evil      |  -0.08513875723138123  |\n",
      "|    exactly     |   0.2093515114411517   |\n",
      "|    example     |  -0.2773330820931591   |\n",
      "|   excellent    |   0.9949284311124716   |\n",
      "|     except     |  -0.3441690847805977   |\n",
      "|     expect     |   0.2590475899531239   |\n",
      "|  expectation   |  0.22854002372608254   |\n",
      "|    expected    |  0.17788726471255736   |\n",
      "|   expecting    |  0.34151209843887315   |\n",
      "|   experience   |  0.20930248133703688   |\n",
      "|   extremely    |  -0.02979716449064244  |\n",
      "|      eye       |  0.13040174424451942   |\n",
      "|      face      |  0.024404809642112963  |\n",
      "|      fact      | -0.050503961833164975  |\n",
      "|      fall      |  -0.3773479102621889   |\n",
      "|     family     |  0.10951820770255824   |\n",
      "|      fan       |  0.11541878361016458   |\n",
      "|   fantastic    |   0.7999911956666725   |\n",
      "|      far       | -0.057796748754402924  |\n",
      "|      fast      |  0.17085096740380618   |\n",
      "|     father     | -0.012478634380178849  |\n",
      "|    favorite    |   0.5573247089586658   |\n",
      "|    feature     |  -0.07518619839659962  |\n",
      "|      feel      |  0.059862707412419384  |\n",
      "|    feeling     | -0.004608310615744353  |\n",
      "|      felt      |  -0.19774854745585901  |\n",
      "|     female     |  -0.16807500209650741  |\n",
      "|       fi       |  0.023843588744619264  |\n",
      "|     fight      |  0.053456202454947144  |\n",
      "|      film      |  0.039110766692489966  |\n",
      "|     final      |  0.15911665731079583   |\n",
      "|    finally     |  0.11822392891961622   |\n",
      "|      find      |  0.10426564583023776   |\n",
      "|      fine      |  0.11437508395041672   |\n",
      "|     first      |  0.06748103909387852   |\n",
      "|     flick      |  0.02621685409818499   |\n",
      "|     found      |  0.06628601892618838   |\n",
      "|     friend     | -0.035393659799627344  |\n",
      "|      full      |  0.07528416449903161   |\n",
      "|      fun       |   0.5566263816565729   |\n",
      "|     funny      |  0.07996928575713577   |\n",
      "|     future     |  0.15759328606981976   |\n",
      "|      game      |  0.12501906418196027   |\n",
      "|      gave      |  -0.1007176994770413   |\n",
      "|     genre      |   0.1409326445538947   |\n",
      "|      get       | -0.0072420349725906335 |\n",
      "|    getting     |  -0.04576580274360678  |\n",
      "|      girl      |  -0.0725291846445045   |\n",
      "|      give      |  0.16383171690061707   |\n",
      "|     given      |  -0.08578567738690478  |\n",
      "|     giving     |  0.10305776740876224   |\n",
      "|       go       |  0.07867512693951506   |\n",
      "|      god       |  0.021230724254998844  |\n",
      "|     going      | -0.021464060362364555  |\n",
      "|      good      |  0.18803152466286904   |\n",
      "|      gore      |   0.1875782640237403   |\n",
      "|      got       | -0.032282930247322005  |\n",
      "|     great      |   0.5714472874552291   |\n",
      "|     group      | 0.0017225452193236775  |\n",
      "|     guess      |  -0.4753272467290697   |\n",
      "|      guy       |  0.057138108902041455  |\n",
      "|      half      |  -0.2282591221987423   |\n",
      "|      hand      |  -0.08900587792155201  |\n",
      "|     happen     |  0.027992910754767952  |\n",
      "|    happens     |  -0.07332123227471697  |\n",
      "|      hard      |  -0.08668049403488658  |\n",
      "|      hate      |  0.27704794354325746   |\n",
      "|      head      |  -0.07052855739794764  |\n",
      "|     heart      |  0.33157164330255223   |\n",
      "|      hell      |  -0.04605372934878156  |\n",
      "+----------------+------------------------+\n"
     ]
    }
   ],
   "source": [
    "lgr = LogisticRegression()\n",
    "lgr.fit(x_train_count,y_train)\n",
    "lgr.score(x_test_count,y_test)\n",
    "lgr.coef_[0]\n",
    "i=0\n",
    "importantfeature = PrettyTable([\"Feature\", \"Score\"])\n",
    "for feature, importance in zip(countvect.get_feature_names_out(), lgr.coef_[0]):\n",
    "    if i<=200:\n",
    "        importantfeature.add_row([feature, importance])\n",
    "        i=i+1\n",
    "print(importantfeature)"
   ]
  },
  {
   "cell_type": "code",
   "execution_count": null,
   "metadata": {},
   "outputs": [],
   "source": []
  }
 ],
 "metadata": {
  "kernelspec": {
   "display_name": "Emoscan",
   "language": "python",
   "name": "python3"
  },
  "language_info": {
   "codemirror_mode": {
    "name": "ipython",
    "version": 3
   },
   "file_extension": ".py",
   "mimetype": "text/x-python",
   "name": "python",
   "nbconvert_exporter": "python",
   "pygments_lexer": "ipython3",
   "version": "3.12.3"
  }
 },
 "nbformat": 4,
 "nbformat_minor": 2
}
